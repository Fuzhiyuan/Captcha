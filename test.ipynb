{
 "cells": [
  {
   "cell_type": "code",
   "execution_count": 4,
   "id": "bc94c0c6-b7af-4368-874f-ef58f7638340",
   "metadata": {},
   "outputs": [],
   "source": [
    "import cv2 as cv\n",
    "import numpy as np"
   ]
  },
  {
   "cell_type": "code",
   "execution_count": 5,
   "id": "fb44a4a6-f71f-477f-a887-71aae428af7b",
   "metadata": {},
   "outputs": [],
   "source": [
    "path =\"D:/CodeRepo/sample-code/littleData/0C479.png\""
   ]
  },
  {
   "cell_type": "code",
   "execution_count": 6,
   "id": "4eb15c9e-7d0a-496f-9818-a3c2e0ba7530",
   "metadata": {},
   "outputs": [],
   "source": [
    "img = cv.imread(path,0)\n",
    "#binary_image = cv.adaptiveThreshold(img, 255, cv.ADAPTIVE_THRESH_MEAN_C, cv.THRESH_BINARY, 11, 2)\n",
    "hist = cv.calcHist([img], [0], None, [256], [0, 256])\n",
    "background_gray_value = np.argmax(hist)\n",
    "img[img == background_gray_value] = 0\n",
    "cv.imshow('Result Image', img)\n",
    "cv.waitKey(0)\n",
    "cv.destroyAllWindows()\n"
   ]
  },
  {
   "cell_type": "code",
   "execution_count": 7,
   "id": "251753b4-32af-444d-b963-00fc5584f083",
   "metadata": {},
   "outputs": [
    {
     "data": {
      "text/plain": [
       "-1"
      ]
     },
     "execution_count": 7,
     "metadata": {},
     "output_type": "execute_result"
    }
   ],
   "source": [
    "_,binary_image = cv.threshold(img,200,255,cv.THRESH_BINARY_INV)\n",
    "#binary_image=255-binary_image\n",
    "cv.imshow(\"original\",binary_image)\n",
    "cv.waitKey(0)\n"
   ]
  },
  {
   "cell_type": "code",
   "execution_count": 8,
   "id": "f92c0e06-00b9-4ec9-a83d-972c1ec79b8e",
   "metadata": {},
   "outputs": [],
   "source": [
    "num,image,inf,inf_centra = cv.connectedComponentsWithStats(binary_image,connectivity=4)"
   ]
  },
  {
   "cell_type": "code",
   "execution_count": 9,
   "id": "d0ef2104-481b-46ef-a991-17dcf720df59",
   "metadata": {},
   "outputs": [
    {
     "data": {
      "text/plain": [
       "array([[   1,    0,  126,   64, 2588],\n",
       "       [   0,    0,  128,   64, 5317],\n",
       "       [  65,    0,    4,    4,   12],\n",
       "       [  18,    6,    7,    5,   27],\n",
       "       [  94,    6,    4,    4,   14],\n",
       "       [  82,    9,    4,    4,   14],\n",
       "       [  97,    9,    2,    2,    3],\n",
       "       [  54,   10,    4,    4,   14],\n",
       "       [  20,   12,    1,    1,    1],\n",
       "       [  95,   12,    4,    4,   14],\n",
       "       [  18,   13,    6,    8,   28],\n",
       "       [ 108,   15,    4,    4,   14],\n",
       "       [  80,   23,    4,    4,   14],\n",
       "       [ 101,   23,    2,    6,    7],\n",
       "       [ 102,   29,    6,    6,   27],\n",
       "       [  47,   43,    4,    4,   14],\n",
       "       [  77,   45,    4,    4,   14],\n",
       "       [  98,   47,    4,    4,   14],\n",
       "       [  68,   52,    4,    4,   14],\n",
       "       [  44,   53,    4,    4,   14],\n",
       "       [ 116,   53,    4,    4,   14],\n",
       "       [  85,   55,    4,    4,   14]], dtype=int32)"
      ]
     },
     "execution_count": 9,
     "metadata": {},
     "output_type": "execute_result"
    }
   ],
   "source": [
    "inf"
   ]
  },
  {
   "cell_type": "code",
   "execution_count": 10,
   "id": "913bd840-0dfd-43c7-882f-2fb3ddf7330d",
   "metadata": {},
   "outputs": [
    {
     "data": {
      "text/plain": [
       "array([2588, 5317,   12,   27,   14,   14,    3,   14,    1,   14,   28,\n",
       "         14,   14,    7,   27,   14,   14,   14,   14,   14,   14,   14],\n",
       "      dtype=int32)"
      ]
     },
     "execution_count": 10,
     "metadata": {},
     "output_type": "execute_result"
    }
   ],
   "source": [
    "component_area = inf[:,-1]\n",
    "component_area"
   ]
  },
  {
   "cell_type": "code",
   "execution_count": 11,
   "id": "15a4b533-c4e4-4018-b4cc-de62460b1b18",
   "metadata": {},
   "outputs": [],
   "source": [
    "#img[image==0]=100\n",
    "for i in range(1,num):\n",
    "    if(component_area[i]<1000):\n",
    "        img[image==i]=0\n"
   ]
  },
  {
   "cell_type": "code",
   "execution_count": 12,
   "id": "c0e9a889-e3e4-411b-a116-86db3a792367",
   "metadata": {},
   "outputs": [],
   "source": [
    "cv.imshow('Result', img)\n",
    "cv.imwrite(\"./save.png\",img)\n",
    "cv.waitKey(0)\n",
    "cv.destroyAllWindows()"
   ]
  },
  {
   "cell_type": "code",
   "execution_count": null,
   "id": "5ddb2940-9685-44cb-8be0-67cb3b6f861f",
   "metadata": {},
   "outputs": [],
   "source": [
    "import numpy as np"
   ]
  },
  {
   "cell_type": "code",
   "execution_count": null,
   "id": "b9ab5322-82bf-4f1a-81d2-28423dfcd87c",
   "metadata": {},
   "outputs": [],
   "source": []
  },
  {
   "cell_type": "code",
   "execution_count": null,
   "id": "dfb22807-4454-4609-8772-e9b4d4d0e5ec",
   "metadata": {},
   "outputs": [],
   "source": [
    "_,binary_image = cv.threshold(img,190,255,cv.THRESH_BINARY)"
   ]
  },
  {
   "cell_type": "code",
   "execution_count": null,
   "id": "6a443d7f-ee29-43b2-a230-6465f7700056",
   "metadata": {},
   "outputs": [],
   "source": [
    "low_threshold=200\n",
    "high_threshold=240\n",
    "mask=cv.inRange(img,low_threshold,high_threshold)\n",
    "result = cv.bitwise_and(img, img, mask=mask)\n",
    "cv.imshow(\"bitwise\",result)\n",
    "cv.waitKey(0)"
   ]
  },
  {
   "cell_type": "code",
   "execution_count": null,
   "id": "355b2c95-1c23-49c5-a014-5581e634cab6",
   "metadata": {},
   "outputs": [],
   "source": [
    "cv.imshow(\"binary_second\",binary_image)\n",
    "cv.waitKey(0)\n",
    "cv.destroyAllWindows()"
   ]
  },
  {
   "cell_type": "code",
   "execution_count": null,
   "id": "89fb93c7-3015-4687-9a2b-ce81241a6be7",
   "metadata": {},
   "outputs": [],
   "source": [
    "edges = cv.Canny(img, threshold1=30, threshold2=100) \n"
   ]
  },
  {
   "cell_type": "code",
   "execution_count": null,
   "id": "84edf80c-f159-44d7-8e41-377e0a8ec80f",
   "metadata": {},
   "outputs": [],
   "source": [
    "import numpy as np"
   ]
  },
  {
   "cell_type": "code",
   "execution_count": null,
   "id": "06fc8c51-eab8-4a12-b7e1-f9ef889abc67",
   "metadata": {},
   "outputs": [],
   "source": [
    "laplacian = cv.Laplacian(binary_image, cv.CV_64F)\n",
    "# 将负值转换为正值\n",
    "laplacian = np.abs(laplacian).astype(np.uint8)"
   ]
  },
  {
   "cell_type": "code",
   "execution_count": null,
   "id": "a1f98a49-4fba-430e-834d-a9718d52d350",
   "metadata": {},
   "outputs": [],
   "source": [
    "cv.imshow(\"laplacian\",edges)\n",
    "cv.waitKey(0)"
   ]
  },
  {
   "cell_type": "code",
   "execution_count": null,
   "id": "021e1d56-5e2b-402e-8bac-b6aea85c97e7",
   "metadata": {},
   "outputs": [],
   "source": [
    "cv.imwrite(\"./tes.jpg\",laplacian)"
   ]
  },
  {
   "cell_type": "code",
   "execution_count": null,
   "id": "7934561d-b6f0-4d85-9781-db089eae2e17",
   "metadata": {},
   "outputs": [],
   "source": [
    "binary_image[binary_image!=0]"
   ]
  }
 ],
 "metadata": {
  "kernelspec": {
   "display_name": "Python 3 (ipykernel)",
   "language": "python",
   "name": "python3"
  },
  "language_info": {
   "codemirror_mode": {
    "name": "ipython",
    "version": 3
   },
   "file_extension": ".py",
   "mimetype": "text/x-python",
   "name": "python",
   "nbconvert_exporter": "python",
   "pygments_lexer": "ipython3",
   "version": "3.9.13"
  }
 },
 "nbformat": 4,
 "nbformat_minor": 5
}
